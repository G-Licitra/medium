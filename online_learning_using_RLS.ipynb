{
 "cells": [
  {
   "cell_type": "code",
   "execution_count": 1,
   "id": "54f40e60-c1cd-4de0-afff-527d614791c1",
   "metadata": {},
   "outputs": [],
   "source": [
    "import numpy as np\n",
    "from sklearn.datasets import make_regression\n",
    "from sklearn.linear_model import LinearRegression\n",
    "import matplotlib.pyplot as plt"
   ]
  },
  {
   "cell_type": "code",
   "execution_count": 14,
   "id": "5636df66-b534-431c-bf3e-3c51f2b13e7b",
   "metadata": {},
   "outputs": [],
   "source": [
    "(X, y, coef) = make_regression(n_samples=100, \n",
    "                                 n_features=2,\n",
    "                                 n_informative=2, \n",
    "                                 n_targets=1, \n",
    "                                 bias=10, \n",
    "                                 noise=5, \n",
    "                                 coef=True, \n",
    "                                 random_state=42)"
   ]
  },
  {
   "cell_type": "code",
   "execution_count": 3,
   "id": "c967abf5-0d91-4bf8-a07f-a3802382dfa5",
   "metadata": {},
   "outputs": [],
   "source": [
    "q = 3\n",
    "fit_intercept = True"
   ]
  },
  {
   "cell_type": "code",
   "execution_count": 4,
   "id": "4b4a8942-6bb3-4e18-aba6-505f46b5de63",
   "metadata": {},
   "outputs": [
    {
     "data": {
      "text/plain": [
       "array([87.73730719, 74.07686178])"
      ]
     },
     "execution_count": 4,
     "metadata": {},
     "output_type": "execute_result"
    }
   ],
   "source": [
    "coef"
   ]
  },
  {
   "cell_type": "code",
   "execution_count": 6,
   "id": "456d5c07-1501-4b73-a3c2-3750782db811",
   "metadata": {},
   "outputs": [],
   "source": [
    "# perform linear regression in Batch\n",
    "reg = LinearRegression(fit_intercept=True).fit(X, y)\n",
    "y_fit = reg.predict(X)"
   ]
  },
  {
   "cell_type": "code",
   "execution_count": 7,
   "id": "97f07ab4-1e90-46ff-a160-57db45bff93a",
   "metadata": {},
   "outputs": [],
   "source": [
    "(m_sklearn, q_sklearn) = reg.coef_, reg.intercept_"
   ]
  },
  {
   "cell_type": "code",
   "execution_count": null,
   "id": "c4ff856a-f5ea-4261-8e62-b16b78e3a6d3",
   "metadata": {},
   "outputs": [],
   "source": []
  },
  {
   "cell_type": "code",
   "execution_count": 8,
   "id": "4d696e04-e8d7-4465-8efc-f19beb3c5e48",
   "metadata": {},
   "outputs": [],
   "source": [
    "theta0 = np.zeros(shape=(2,1))"
   ]
  },
  {
   "cell_type": "code",
   "execution_count": 9,
   "id": "dab12296-a84b-4d3d-a9d7-eaa480325d78",
   "metadata": {},
   "outputs": [],
   "source": [
    "theta = np.empty(shape=(3,1))"
   ]
  },
  {
   "cell_type": "code",
   "execution_count": 10,
   "id": "5652e530-cf44-44c5-b9fd-04a94f9c3661",
   "metadata": {},
   "outputs": [],
   "source": [
    "i = 0"
   ]
  },
  {
   "cell_type": "code",
   "execution_count": 24,
   "id": "86575f61-5279-4af8-aa57-26a055308926",
   "metadata": {},
   "outputs": [
    {
     "ename": "ValueError",
     "evalue": "matmul: Input operand 1 has a mismatch in its core dimension 0, with gufunc signature (n?,k),(k,m?)->(n?,m?) (size 2 is different from 1)",
     "output_type": "error",
     "traceback": [
      "\u001b[0;31m---------------------------------------------------------------------------\u001b[0m",
      "\u001b[0;31mValueError\u001b[0m                                Traceback (most recent call last)",
      "\u001b[0;32m<ipython-input-24-7526f3bc1133>\u001b[0m in \u001b[0;36m<module>\u001b[0;34m\u001b[0m\n\u001b[1;32m      7\u001b[0m \u001b[0;34m\u001b[0m\u001b[0m\n\u001b[1;32m      8\u001b[0m \u001b[0;32mif\u001b[0m \u001b[0mi\u001b[0m\u001b[0;34m==\u001b[0m\u001b[0;36m0\u001b[0m\u001b[0;34m:\u001b[0m\u001b[0;34m\u001b[0m\u001b[0;34m\u001b[0m\u001b[0m\n\u001b[0;32m----> 9\u001b[0;31m     \u001b[0meN\u001b[0m \u001b[0;34m=\u001b[0m \u001b[0myN\u001b[0m \u001b[0;34m-\u001b[0m \u001b[0mnp\u001b[0m\u001b[0;34m.\u001b[0m\u001b[0mmatmul\u001b[0m\u001b[0;34m(\u001b[0m\u001b[0mxN\u001b[0m\u001b[0;34m.\u001b[0m\u001b[0mT\u001b[0m\u001b[0;34m,\u001b[0m \u001b[0mtheta0\u001b[0m\u001b[0;34m)\u001b[0m\u001b[0;34m\u001b[0m\u001b[0;34m\u001b[0m\u001b[0m\n\u001b[0m",
      "\u001b[0;31mValueError\u001b[0m: matmul: Input operand 1 has a mismatch in its core dimension 0, with gufunc signature (n?,k),(k,m?)->(n?,m?) (size 2 is different from 1)"
     ]
    }
   ],
   "source": [
    "xN, yN = X[i,:], y[i]\n",
    "\n",
    "if fit_intercept:\n",
    "    xN = np.append(xN, [1])\n",
    "\n",
    "xN = xN.reshape(-1,q)\n",
    "    \n",
    "if i==0:\n",
    "    eN = yN - np.matmul(xN.T, theta0)"
   ]
  },
  {
   "cell_type": "code",
   "execution_count": 122,
   "id": "72a0a20b-f729-4d1f-ac84-9cc6c8681966",
   "metadata": {},
   "outputs": [
    {
     "data": {
      "text/plain": [
       "array([1.        , 0.65655361])"
      ]
     },
     "execution_count": 122,
     "metadata": {},
     "output_type": "execute_result"
    }
   ],
   "source": [
    "sN = sNprev - np.matmul(xN.T, xN)"
   ]
  },
  {
   "cell_type": "code",
   "execution_count": 126,
   "id": "483aeffb-b4ce-428a-b934-93b06729037c",
   "metadata": {},
   "outputs": [
    {
     "data": {
      "text/plain": [
       "1.431062641010104"
      ]
     },
     "execution_count": 126,
     "metadata": {},
     "output_type": "execute_result"
    }
   ],
   "source": [
    "np.matmul(xN, xN.T)"
   ]
  },
  {
   "cell_type": "code",
   "execution_count": 23,
   "id": "d8a894c8-54f0-459e-8841-12b3eeec0054",
   "metadata": {},
   "outputs": [
    {
     "data": {
      "text/plain": [
       "(3,)"
      ]
     },
     "execution_count": 23,
     "metadata": {},
     "output_type": "execute_result"
    }
   ],
   "source": [
    "np.append(xN, [1]).shape"
   ]
  },
  {
   "cell_type": "code",
   "execution_count": 133,
   "id": "b99a2cd2-40a6-4b54-83fb-51adffbb660f",
   "metadata": {},
   "outputs": [
    {
     "data": {
      "text/plain": [
       "(1, 2)"
      ]
     },
     "execution_count": 133,
     "metadata": {},
     "output_type": "execute_result"
    }
   ],
   "source": [
    "X[i,:].reshape(-1, 2).shape"
   ]
  },
  {
   "cell_type": "code",
   "execution_count": null,
   "id": "b8942f40-1950-4efb-a9ed-7aa18e2c0d26",
   "metadata": {},
   "outputs": [],
   "source": []
  }
 ],
 "metadata": {
  "kernelspec": {
   "display_name": "medium-env",
   "language": "python",
   "name": "medium-env"
  },
  "language_info": {
   "codemirror_mode": {
    "name": "ipython",
    "version": 3
   },
   "file_extension": ".py",
   "mimetype": "text/x-python",
   "name": "python",
   "nbconvert_exporter": "python",
   "pygments_lexer": "ipython3",
   "version": "3.9.5"
  }
 },
 "nbformat": 4,
 "nbformat_minor": 5
}
